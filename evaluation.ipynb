{
 "cells": [
  {
   "cell_type": "code",
   "execution_count": 12,
   "metadata": {},
   "outputs": [],
   "source": [
    "from authentication import Authentication_Info\n",
    "import json\n",
    "import pandas as pd\n",
    "from datetime import datetime\n",
    "from langchain_groq import ChatGroq\n",
    "from langchain_ollama import ChatOllama\n",
    "import os\n",
    "from dotenv import load_dotenv"
   ]
  },
  {
   "cell_type": "code",
   "execution_count": 13,
   "metadata": {},
   "outputs": [
    {
     "data": {
      "text/plain": [
       "True"
      ]
     },
     "execution_count": 13,
     "metadata": {},
     "output_type": "execute_result"
    }
   ],
   "source": [
    "load_dotenv()"
   ]
  },
  {
   "cell_type": "code",
   "execution_count": 14,
   "metadata": {},
   "outputs": [],
   "source": [
    "groq_api_key = os.getenv('GROQ_API_KEY')"
   ]
  },
  {
   "cell_type": "code",
   "execution_count": 15,
   "metadata": {},
   "outputs": [],
   "source": [
    "llm = ChatGroq(model='llama-3.3-70b-versatile',api_key=groq_api_key)"
   ]
  },
  {
   "cell_type": "code",
   "execution_count": 16,
   "metadata": {},
   "outputs": [],
   "source": [
    "with open('fraud-apps.json','r',encoding='utf-8') as f:\n",
    "    fraud_apps = json.load(f)\n",
    "\n",
    "with open('genuine-apps.json','r',encoding='utf-8') as f:\n",
    "    genuine_apps = json.load(f)"
   ]
  },
  {
   "cell_type": "code",
   "execution_count": 17,
   "metadata": {},
   "outputs": [],
   "source": [
    "combined_apps = fraud_apps+genuine_apps"
   ]
  },
  {
   "cell_type": "code",
   "execution_count": 18,
   "metadata": {},
   "outputs": [],
   "source": [
    "fraud_dict = {'app_name':[app.get('appId','N/A') for app in fraud_apps],\n",
    "              'authenticity':['fraud' for _ in range(len(fraud_apps))]}\n",
    "\n",
    "genuine_dict = {'app_name':[app.get('appId','N/A') for app in genuine_apps],\n",
    "              'authenticity':['genuine' for _ in range(len(genuine_apps))]}"
   ]
  },
  {
   "cell_type": "code",
   "execution_count": 19,
   "metadata": {},
   "outputs": [],
   "source": [
    "fraud_df = pd.DataFrame(fraud_dict)\n",
    "\n",
    "genuine_df = pd.DataFrame(genuine_dict)\n",
    "\n",
    "app_authenticity_df = pd.concat([fraud_df,genuine_df])\n",
    "\n",
    "app_authenticity_df = app_authenticity_df.reset_index().drop(columns=['index'])"
   ]
  },
  {
   "cell_type": "code",
   "execution_count": 28,
   "metadata": {},
   "outputs": [],
   "source": [
    "def format_prompt(details,review,app_permission,analysis):\n",
    "   system_prompt = f'''\n",
    "      You are an experienced app analyst specializing in evaluating applications from the Google Play Store \n",
    "      for authenticity and reliability. Your expertise includes identifying fraudulent, suspicious, or genuine \n",
    "      apps based on various key factors.\n",
    "      Your task is to analyze a specific Google Play Store application using your extensive knowledge and \n",
    "      it is also important to consider the following details:\n",
    "\n",
    "      app_id : {details.get('appId','N/A')}\n",
    "      app_name : {details.get('title','N/A')}\n",
    "      description : {details.get('description','N/A')}\n",
    "      downloads : {details.get('realInstalls','N/A')}\n",
    "      developer : {details.get('developer','N/A')}\n",
    "      developerId : {details.get('developerId','N/A')} \n",
    "      developerEmail : {details.get('developerEmail','N/A')} \n",
    "      developerWebsite : {details.get('developerWebsite','N/A')}\n",
    "      developerAddress : {details.get('developerAddress','N/A')}\n",
    "      average rating : {details.get('score','N/A')}\n",
    "      ads supported : {details.get('adSupported','N/A')}\n",
    "      number of updates : {details.get('updated','N/A')}\n",
    "      current date : {datetime.now().strftime(\"%d %b %Y\")}\n",
    "      last updated : {details.get('lastUpdatedOn','N/A')}\n",
    "      app permissions : {app_permission}\n",
    "\n",
    "      reviews : {[[f\"user : {i['userName']} , review : {i['content']}\"] for i in review[0]]}\n",
    "\n",
    "      result from self made analysis regarding data privacy : {analysis}\n",
    "\n",
    "      ### Instructions ###\n",
    "\n",
    "      1. If result from self made analysis is suspect then check the app more properly.\n",
    "\n",
    "      2. Based on your assessment, classify the app as one of the following:\n",
    "      - genuine\n",
    "      - fraud\n",
    "\n",
    "      3. Provide a brief,concise explanation (max 300 characters) on why the app falls into the chosen category.\n",
    "\n",
    "      4. Make sure the output should be in dictionary format :\n",
    "      example : \"type\": \"fraud\"|\"genuine\", \"reason\": \"Concise explanation (300 char max)\"\n",
    "      5. Do not provide any other additional details other then the output in dictionary format\n",
    "   '''\n",
    "   \n",
    "   return system_prompt"
   ]
  },
  {
   "cell_type": "code",
   "execution_count": null,
   "metadata": {},
   "outputs": [],
   "source": [
    "def detect_app_authenticity(df,llm):\n",
    "    authenticity = []\n",
    "    for indx,app_name in enumerate(df['app_name']):\n",
    "        auth = Authentication_Info(app_name)\n",
    "        details = auth.app_details(country='in')\n",
    "        if details == False:\n",
    "            details = combined_apps[indx]\n",
    "        review = auth.user_review(country='in',num_reviews=5)\n",
    "        if review == False:\n",
    "            review = []\n",
    "        app_permissions = auth.app_permission()\n",
    "        analysis = auth.data_privacy_analysis(auth.data_accountability())\n",
    "        \n",
    "        prompt = format_prompt(details,review,app_permissions,analysis)\n",
    "\n",
    "        response = llm.invoke(prompt)\n",
    "\n",
    "        response = json.loads(response.content)\n",
    "\n",
    "        authenticity.append(response.get('type'))\n",
    "\n",
    "    return authenticity"
   ]
  }
 ],
 "metadata": {
  "kernelspec": {
   "display_name": "Python 3",
   "language": "python",
   "name": "python3"
  },
  "language_info": {
   "codemirror_mode": {
    "name": "ipython",
    "version": 3
   },
   "file_extension": ".py",
   "mimetype": "text/x-python",
   "name": "python",
   "nbconvert_exporter": "python",
   "pygments_lexer": "ipython3",
   "version": "3.11.4"
  }
 },
 "nbformat": 4,
 "nbformat_minor": 2
}
